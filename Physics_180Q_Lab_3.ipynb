{
  "nbformat": 4,
  "nbformat_minor": 0,
  "metadata": {
    "colab": {
      "name": "Physics 180Q Lab 3.ipynb",
      "provenance": [],
      "collapsed_sections": []
    },
    "kernelspec": {
      "name": "python3",
      "display_name": "Python 3"
    },
    "language_info": {
      "name": "python"
    }
  },
  "cells": [
    {
      "cell_type": "code",
      "execution_count": null,
      "metadata": {
        "id": "F7CeLFQwdY7P"
      },
      "outputs": [],
      "source": [
        "import numpy as np\n",
        "import matplotlib.pyplot as plt\n",
        "from scipy.optimize import curve_fit\n",
        "from scipy.special import erf\n",
        "import math"
      ]
    },
    {
      "cell_type": "markdown",
      "source": [
        "Total dist between aperture and blade is 39 cm. We looked at intervals of 9.5 cm each. Terminating resistance is 50k Ohm."
      ],
      "metadata": {
        "id": "nJcJn6OUfRDd"
      }
    },
    {
      "cell_type": "code",
      "source": [
        "def test_func(x, a, b, c, d):\n",
        "  y = a/2 * (1 + erf(math.sqrt(2)*(x-b)/c)) + d\n",
        "  return y"
      ],
      "metadata": {
        "id": "NxsrfMqsza9z"
      },
      "execution_count": null,
      "outputs": []
    },
    {
      "cell_type": "markdown",
      "source": [
        "knife_pos is in inches."
      ],
      "metadata": {
        "id": "5U-NRdwdgETz"
      }
    },
    {
      "cell_type": "markdown",
      "source": [
        "The entries below are for horizontal measurement."
      ],
      "metadata": {
        "id": "HNlu9125ydnO"
      }
    },
    {
      "cell_type": "markdown",
      "source": [
        "This is at 39 cm."
      ],
      "metadata": {
        "id": "LOUn5aKmltXv"
      }
    },
    {
      "cell_type": "code",
      "source": [
        "voltage = np.array([2.15, 2.15, 2.05, 1.92, 1.75, 1.25, 0.800, 0.32, 0.16, 0.08])\n",
        "knife_pos = np.array([0.2, 0.195, 0.19, 0.185, 0.18, 0.175, 0.17, 0.165, 0.16, 0.155])\n",
        "plt.scatter(knife_pos, voltage)"
      ],
      "metadata": {
        "colab": {
          "base_uri": "https://localhost:8080/",
          "height": 283
        },
        "id": "uhBp3KtOdoEl",
        "outputId": "12aecd39-91d1-4a38-c623-aa210cd9bbf1"
      },
      "execution_count": null,
      "outputs": [
        {
          "output_type": "execute_result",
          "data": {
            "text/plain": [
              "<matplotlib.collections.PathCollection at 0x7ff360530e10>"
            ]
          },
          "metadata": {},
          "execution_count": 14
        },
        {
          "output_type": "display_data",
          "data": {
            "text/plain": [
              "<Figure size 432x288 with 1 Axes>"
            ],
            "image/png": "[encoded data removed]"
          },
          "metadata": {
            "needs_background": "light"
          }
        }
      ]
    },
    {
      "cell_type": "code",
      "source": [
        "popt, pcov = curve_fit(test_func, knife_pos, voltage)\n",
        "print(\"I used this formula for my model function: a/2 * (1 + erf(math.sqrt(2)*(x-b)/c)) + d\")\n",
        "print(f\"a = P = {popt[0]}, b = {popt[1]}, c = w_x = {popt[2]}, d = {popt[3]}\")\n",
        "plt.xlabel(\"Position (in)\")\n",
        "plt.ylabel(\"Volts (V)\")\n",
        "plt.scatter(knife_pos, voltage, label=\"Actual data\")\n",
        "plt.plot(knife_pos, test_func(knife_pos, *popt), color='orange', label=\"curve_fit() best fit\")\n",
        "plt.legend()"
      ],
      "metadata": {
        "id": "l-ahJAId41KG",
        "outputId": "e6b2cc4f-8bdf-48cf-efc1-adbeb68e7ed8",
        "colab": {
          "base_uri": "https://localhost:8080/",
          "height": 332
        }
      },
      "execution_count": null,
      "outputs": [
        {
          "output_type": "stream",
          "name": "stdout",
          "text": [
            "I used this formula for my model function: a/2 * (1 + erf(math.sqrt(2)*(x-b)/c)) + d\n",
            "a = P = 2.08598883621175, b = 0.17320706411979192, c = w_x = 0.016295595568075086, d = 0.04141412574606945\n"
          ]
        },
        {
          "output_type": "execute_result",
          "data": {
            "text/plain": [
              "<matplotlib.legend.Legend at 0x7ff3604ab910>"
            ]
          },
          "metadata": {},
          "execution_count": 15
        },
        {
          "output_type": "display_data",
          "data": {
            "text/plain": [
              "<Figure size 432x288 with 1 Axes>"
            ],
            "image/png": "[encoded data removed]"
          },
          "metadata": {
            "needs_background": "light"
          }
        }
      ]
    },
    {
      "cell_type": "markdown",
      "source": [
        "This is at 26 cm."
      ],
      "metadata": {
        "id": "WuP56mtDlwYz"
      }
    },
    {
      "cell_type": "code",
      "source": [
        "voltage = np.array([2.09, 2.09, 2.09, 2.01, 1.85, 1.45, 1.13, 0.56, 0.32, 0.08])\n",
        "knife_pos = np.array([0.2, 0.195, 0.19, 0.185, 0.18, 0.175, 0.17, 0.165, 0.16, 0.155])"
      ],
      "metadata": {
        "id": "ZUD8QCBioHq5"
      },
      "execution_count": null,
      "outputs": []
    },
    {
      "cell_type": "markdown",
      "source": [
        ""
      ],
      "metadata": {
        "id": "DIiaglQB5sYB"
      }
    },
    {
      "cell_type": "markdown",
      "source": [
        ""
      ],
      "metadata": {
        "id": "DBP0CPpI5ukW"
      }
    },
    {
      "cell_type": "code",
      "source": [
        "popt, pcov = curve_fit(test_func, knife_pos, voltage)\n",
        "print(\"I used this formula for my model function: a/2 * (1 + erf(math.sqrt(2)*(x-b)/c)) + d\")\n",
        "print(f\"a = P = {popt[0]}, b = {popt[1]}, c = w_x = {popt[2]}, d = {popt[3]}\")\n",
        "plt.xlabel(\"Position (in)\")\n",
        "plt.ylabel(\"Volts (V)\")\n",
        "plt.scatter(knife_pos, voltage, label=\"Actual data\")\n",
        "plt.plot(knife_pos, test_func(knife_pos, *popt), color='orange', label=\"curve_fit() best fit\")\n",
        "plt.legend()"
      ],
      "metadata": {
        "colab": {
          "base_uri": "https://localhost:8080/",
          "height": 332
        },
        "id": "QKC1fT6W5TOV",
        "outputId": "32f6ba85-0d82-4e1e-c750-fa558bb861b5"
      },
      "execution_count": null,
      "outputs": [
        {
          "output_type": "stream",
          "name": "stdout",
          "text": [
            "I used this formula for my model function: a/2 * (1 + erf(math.sqrt(2)*(x-b)/c)) + d\n",
            "a = P = 2.1174892199473305, b = 0.16977883977920355, c = w_x = 0.018090966445579094, d = -0.014928276780246262\n"
          ]
        },
        {
          "output_type": "execute_result",
          "data": {
            "text/plain": [
              "<matplotlib.legend.Legend at 0x7ff3605cae50>"
            ]
          },
          "metadata": {},
          "execution_count": 13
        },
        {
          "output_type": "display_data",
          "data": {
            "text/plain": [
              "<Figure size 432x288 with 1 Axes>"
            ],
            "image/png": "[encoded data removed]"
          },
          "metadata": {
            "needs_background": "light"
          }
        }
      ]
    },
    {
      "cell_type": "markdown",
      "source": [
        "This is at 13 cm."
      ],
      "metadata": {
        "id": "SZo5FxU0psma"
      }
    },
    {
      "cell_type": "code",
      "source": [
        "voltage = np.array([2.09, 2.09, 2.09, 2.09, 1.93, 1.29, 0.64, 0.32, 0.08])\n",
        "knife_pos = np.array([0.3, 0.295, 0.285, 0.28, 0.275, 0.27, 0.265, 0.26, 0.255])"
      ],
      "metadata": {
        "id": "NvTfPQZFimHE"
      },
      "execution_count": null,
      "outputs": []
    },
    {
      "cell_type": "code",
      "source": [
        "popt, pcov = curve_fit(test_func, knife_pos, voltage)\n",
        "print(\"I used this formula for my model function: a/2 * (1 + erf(math.sqrt(2)*(x-b)/c)) + d\")\n",
        "print(f\"a = P = {popt[0]}, b = {popt[1]}, c = w_x = {popt[2]}, d = {popt[3]}\")\n",
        "plt.xlabel(\"Position (in)\")\n",
        "plt.ylabel(\"Volts (V)\")\n",
        "plt.scatter(knife_pos, voltage, label=\"Actual data\")\n",
        "plt.plot(knife_pos, test_func(knife_pos, *popt), color='orange', label=\"curve_fit() best fit\")\n",
        "plt.legend()"
      ],
      "metadata": {
        "colab": {
          "base_uri": "https://localhost:8080/",
          "height": 332
        },
        "id": "dULXgehtklsW",
        "outputId": "91a0028a-e199-4e78-d916-cc70dc22ccc6"
      },
      "execution_count": null,
      "outputs": [
        {
          "output_type": "stream",
          "name": "stdout",
          "text": [
            "I used this formula for my model function: a/2 * (1 + erf(math.sqrt(2)*(x-b)/c)) + d\n",
            "a = P = 1.9854579458682884, b = 0.26843558640056364, c = w_x = 0.011007053436603192, d = 0.11994453874898588\n"
          ]
        },
        {
          "output_type": "execute_result",
          "data": {
            "text/plain": [
              "<matplotlib.legend.Legend at 0x7ff362cdcfd0>"
            ]
          },
          "metadata": {},
          "execution_count": 9
        },
        {
          "output_type": "display_data",
          "data": {
            "text/plain": [
              "<Figure size 432x288 with 1 Axes>"
            ],
            "image/png": "[encoded data removed]"
          },
          "metadata": {
            "needs_background": "light"
          }
        }
      ]
    },
    {
      "cell_type": "markdown",
      "source": [
        "The entries below are for the vertical measurements."
      ],
      "metadata": {
        "id": "LVoZXspQzG2y"
      }
    },
    {
      "cell_type": "markdown",
      "source": [
        "This is at 39 cm."
      ],
      "metadata": {
        "id": "QAFmVrybzLHr"
      }
    },
    {
      "cell_type": "code",
      "source": [
        "voltage = np.array([0, 0.08, 0.32, 0.56, 0.88, 1.29, 1.53, 1.61, 1.69, 1.77, 1.85, 2.01])\n",
        "knife_pos = np.array([0.325, 0.32, 0.315, 0.31, 0.305, 0.3, 0.295, 0.29, 0.285, 0.28, 0.275, 0.25])\n",
        "knife_pos = knife_pos[::-1]"
      ],
      "metadata": {
        "id": "B_yzae1lzGBw"
      },
      "execution_count": null,
      "outputs": []
    },
    {
      "cell_type": "code",
      "source": [
        "popt, pcov = curve_fit(test_func, knife_pos, voltage)\n",
        "print(\"I used this formula for my model function: a/2 * (1 + erf(math.sqrt(2)*(x-b)/c)) + d\")\n",
        "print(f\"a = P = {popt[0]}, b = {popt[1]}, c = w_x = {popt[2]}, d = {popt[3]}\")\n",
        "plt.xlabel(\"Position (in)\")\n",
        "plt.ylabel(\"Volts (V)\")\n",
        "plt.scatter(knife_pos, voltage, label=\"Actual data\")\n",
        "plt.plot(knife_pos, test_func(knife_pos, *popt), color='orange', label=\"curve_fit() best fit\")\n",
        "plt.legend()"
      ],
      "metadata": {
        "colab": {
          "base_uri": "https://localhost:8080/",
          "height": 332
        },
        "id": "Miobf6Jl4rzS",
        "outputId": "a041fa77-ea4d-466a-d8d0-e8c0a6f66602"
      },
      "execution_count": null,
      "outputs": [
        {
          "output_type": "stream",
          "name": "stdout",
          "text": [
            "I used this formula for my model function: a/2 * (1 + erf(math.sqrt(2)*(x-b)/c)) + d\n",
            "a = P = 1.8998801283768894, b = 0.2902977081155287, c = w_x = 0.022807215545917792, d = -0.03671538147783002\n"
          ]
        },
        {
          "output_type": "execute_result",
          "data": {
            "text/plain": [
              "<matplotlib.legend.Legend at 0x7ff36039ec10>"
            ]
          },
          "metadata": {},
          "execution_count": 19
        },
        {
          "output_type": "display_data",
          "data": {
            "text/plain": [
              "<Figure size 432x288 with 1 Axes>"
            ],
            "image/png": "[encoded data removed]"
          },
          "metadata": {
            "needs_background": "light"
          }
        }
      ]
    },
    {
      "cell_type": "markdown",
      "source": [
        "This is at 26 cm."
      ],
      "metadata": {
        "id": "H_4s_i8ZzTjT"
      }
    },
    {
      "cell_type": "code",
      "source": [
        "voltage = np.array([0, 0, 0, 0, 0.24, 0.64, 1.21, 1.45, 1.53, 1.61, 1.69, 2.09])\n",
        "knife_pos = np.array([0.375, 0.37, 0.365, 0.36, 0.355, 0.35, 0.345, 0.34, 0.335, 0.33, 0.325, 0.3])\n",
        "knife_pos = knife_pos[::-1]"
      ],
      "metadata": {
        "id": "Zqo3EiemzTEW"
      },
      "execution_count": null,
      "outputs": []
    },
    {
      "cell_type": "code",
      "source": [
        "popt, pcov = curve_fit(test_func, knife_pos, voltage)\n",
        "print(\"I used this formula for my model function: a/2 * (1 + erf(math.sqrt(2)*(x-b)/c)) + d\")\n",
        "print(f\"a = P = {popt[0]}, b = {popt[1]}, c = w_x = {popt[2]}, d = {popt[3]}\")\n",
        "plt.xlabel(\"Position (in)\")\n",
        "plt.ylabel(\"Volts (V)\")\n",
        "plt.scatter(knife_pos, voltage, label=\"Actual data\")\n",
        "plt.plot(knife_pos, test_func(knife_pos, *popt), color='orange', label=\"curve_fit() best fit\")\n",
        "plt.legend()"
      ],
      "metadata": {
        "colab": {
          "base_uri": "https://localhost:8080/",
          "height": 332
        },
        "id": "xuQVz7N-5JMZ",
        "outputId": "1525b849-5814-438c-a7b8-ed4e3dee3fd7"
      },
      "execution_count": null,
      "outputs": [
        {
          "output_type": "stream",
          "name": "stdout",
          "text": [
            "I used this formula for my model function: a/2 * (1 + erf(math.sqrt(2)*(x-b)/c)) + d\n",
            "a = P = 1.831486084077033, b = 0.3476385832930781, c = w_x = 0.01668890881000363, d = -0.039776633521867645\n"
          ]
        },
        {
          "output_type": "execute_result",
          "data": {
            "text/plain": [
              "<matplotlib.legend.Legend at 0x7ff360422cd0>"
            ]
          },
          "metadata": {},
          "execution_count": 17
        },
        {
          "output_type": "display_data",
          "data": {
            "text/plain": [
              "<Figure size 432x288 with 1 Axes>"
            ],
            "image/png": "[encoded data removed]"
          },
          "metadata": {
            "needs_background": "light"
          }
        }
      ]
    },
    {
      "cell_type": "markdown",
      "source": [
        "This is at 13 cm."
      ],
      "metadata": {
        "id": "hEIkfo-8zV2j"
      }
    },
    {
      "cell_type": "code",
      "source": [
        "voltage = np.array([0, 0, 0, 0.4, 1.05, 1.37, 1.53, 1.61, 1.69, 1.77, 2.01])\n",
        "knife_pos = np.array([0.425, 0.42, 0.415, 0.4, 0.395, 0.39, 0.385, 0.38, 0.375, 0.37, 0.35])\n",
        "knife_pos = knife_pos[::-1]"
      ],
      "metadata": {
        "id": "63CNY0ZOzVlP"
      },
      "execution_count": null,
      "outputs": []
    },
    {
      "cell_type": "code",
      "source": [
        "popt, pcov = curve_fit(test_func, knife_pos, voltage)\n",
        "print(\"I used this formula for my model function: a/2 * (1 + erf(math.sqrt(2)*(x-b)/c)) + d\")\n",
        "print(f\"a = P = {popt[0]}, b = {popt[1]}, c = w_x = {popt[2]}, d = {popt[3]}\")\n",
        "plt.xlabel(\"Position (in)\")\n",
        "plt.ylabel(\"Volts (V)\")\n",
        "plt.scatter(knife_pos, voltage, label=\"Actual data\")\n",
        "plt.plot(knife_pos, test_func(knife_pos, *popt), color='orange', label=\"curve_fit() best fit\")\n",
        "plt.legend()"
      ],
      "metadata": {
        "id": "pSyKu7OV4nLg",
        "colab": {
          "base_uri": "https://localhost:8080/",
          "height": 332
        },
        "outputId": "ccc40dfe-7470-4c76-e3cd-ca41f80429fe"
      },
      "execution_count": null,
      "outputs": [
        {
          "output_type": "stream",
          "name": "stdout",
          "text": [
            "I used this formula for my model function: a/2 * (1 + erf(math.sqrt(2)*(x-b)/c)) + d\n",
            "a = P = 1.8165056598922151, b = 0.384287859500843, c = w_x = 0.013992151493301163, d = -0.057565342791302355\n"
          ]
        },
        {
          "output_type": "execute_result",
          "data": {
            "text/plain": [
              "<matplotlib.legend.Legend at 0x7ff360649510>"
            ]
          },
          "metadata": {},
          "execution_count": 11
        },
        {
          "output_type": "display_data",
          "data": {
            "text/plain": [
              "<Figure size 432x288 with 1 Axes>"
            ],
            "image/png": "[encoded data removed]"
          },
          "metadata": {
            "needs_background": "light"
          }
        }
      ]
    },
    {
      "cell_type": "markdown",
      "source": [
        "This is the code for tracking q."
      ],
      "metadata": {
        "id": "vvFKD3NdMX1N"
      }
    },
    {
      "cell_type": "code",
      "source": [
        "def qinv_init(R, w_0, l):\n",
        "  i = 0 + 1j\n",
        "  if R == \"inf\":\n",
        "    q_inv = - i*l/((math.pi)*(w_0**2))\n",
        "  elif R != \"inf\":\n",
        "    q_inv = 1/R - i*l/((math.pi)*(w_0**2))\n",
        "  return q_inv\n",
        "\n",
        "# To get R and waist, check Re(q_inv) and Im(q_inv) respectively."
      ],
      "metadata": {
        "id": "ay_whQhpMbBs"
      },
      "execution_count": null,
      "outputs": []
    },
    {
      "cell_type": "code",
      "source": [
        "#B\n",
        "def q_transform(q_in, A, B, C, D):\n",
        "  q_final = (A*(q_in) + B) / (C*(q_in) + D)\n",
        "  return q_final"
      ],
      "metadata": {
        "id": "Zyft4oewShjW"
      },
      "execution_count": null,
      "outputs": []
    },
    {
      "cell_type": "code",
      "source": [
        "#D For a lens, here are the matrix values\n",
        "def lens_matrix(f):\n",
        "  \"\"\"Enter focal length to get back the ABCD matrix.\"\"\"\n",
        "  A = 1\n",
        "  B = 0\n",
        "  C = -1/f\n",
        "  D = 1\n",
        "  return [A, B, C, D]\n",
        "\n",
        "def prop_matrix(z):\n",
        "  A = 1\n",
        "  B = z\n",
        "  C = 0\n",
        "  D = 1\n",
        "  return [A, B, C, D]"
      ],
      "metadata": {
        "id": "yXQoDJseS745"
      },
      "execution_count": null,
      "outputs": []
    },
    {
      "cell_type": "markdown",
      "source": [
        "Please don't change anything in the two cells right below this text. I need it to show my calculations in my lab report."
      ],
      "metadata": {
        "id": "kx-cLz2Fr9ml"
      }
    },
    {
      "cell_type": "code",
      "source": [
        "# Initializing (units in cm)\n",
        "R = \"inf\"\n",
        "w = 0.0018796\n",
        "q1inv = qinv_init(R, w, 6.33e-5)\n",
        "#print(q1inv)\n",
        "q1 = 1/q1inv\n",
        "#print(q1)\n",
        "waist_startsq = 1/(-1*(math.pi/6.33e-5)*q1inv.imag)\n",
        "waist_start = np.sqrt(waist_startsq)\n",
        "print(f\"Waist at start: {waist_start} cm\")\n",
        "\n",
        "# Propagate for 25 cm\n",
        "prop_mat = prop_matrix(25)\n",
        "q_after_prop = q_transform(q1, prop_mat[0], prop_mat[1], prop_mat[2], prop_mat[3])\n",
        "#print(q_after_prop)\n",
        "q_prop_inv = 1/q_after_prop\n",
        "waist25sq = 1/(-1*(math.pi/6.33e-5)*q_prop_inv.imag)\n",
        "waist25 = np.sqrt(waist25sq)\n",
        "print(f\"Waist after 25 cm: {waist25} cm\")\n",
        "\n",
        "# Pass through lens of focal length 50 mm or 5 cm\n",
        "lens_mat = lens_matrix(5)\n",
        "q_after_lens = q_transform(q_after_prop, lens_mat[0], lens_mat[1], lens_mat[2], lens_mat[3])\n",
        "#print(q_after_lens)\n",
        "q_lens_inv = 1/q_after_lens\n",
        "waistlenssq = 1/(-1*(math.pi/6.33e-5)*q_lens_inv.imag)\n",
        "waistlens = np.sqrt(waistlenssq)\n",
        "print(f\"Waist after lens: {waistlens} cm\")\n",
        "\n",
        "# Now trying to find the minimum waist location AFTER the lens\n",
        "#q_propd = q_transform(q_after_lens, 1, 12, 0, 1)\n",
        "#print(q_propd)\n",
        "#q_propd_inv = 1/q_propd\n",
        "#print(f\"Waist after 12 cm and lens: {q_propd_inv.imag} cm\")\n",
        "\n",
        "# Plot of waist after lens vs z\n",
        "z_array = np.linspace(1, 55)\n",
        "waist_array = []\n",
        "q_in = q_after_lens\n",
        "for val in z_array:\n",
        "  temp_q = q_transform(q_in, prop_matrix(val)[0], prop_matrix(val)[1], prop_matrix(val)[2], prop_matrix(val)[3])\n",
        "  temp_qinv = 1/temp_q\n",
        "  waisttempsq = 1/(-1*(math.pi/6.33e-5)*temp_qinv.imag)\n",
        "  waisttemp = np.sqrt(waisttempsq)\n",
        "  waist_array.append(waisttemp)\n",
        "plt.plot(z_array, waist_array, label=\"Actual waist values\")\n",
        "\n",
        "#print(np.argmin(waist_array))\n",
        "#print(waist_array[np.argmin(waist_array)])\n",
        "plt.scatter(z_array[np.argmin(waist_array)], waist_array[np.argmin(waist_array)], color=\"red\", label=\"Minimum waist\")\n",
        "plt.legend()\n",
        "plt.xlabel(\"z (cm)\")\n",
        "plt.ylabel(\"Waist (cm)\")\n",
        "print(f\"Minimum value of waist is at z = {z_array[np.argmin(waist_array)]} cm and is {waist_array[np.argmin(waist_array)]} cm\")"
      ],
      "metadata": {
        "colab": {
          "base_uri": "https://localhost:8080/",
          "height": 350
        },
        "id": "ZjR5add7q6cU",
        "outputId": "8b79ab4d-995c-4a4e-a3cf-a686b58f4a8c"
      },
      "execution_count": null,
      "outputs": [
        {
          "output_type": "stream",
          "name": "stdout",
          "text": [
            "Waist at start: 0.0018796000000000002 cm\n",
            "Waist after 25 cm: 0.2680026515112743 cm\n",
            "Waist after lens: 0.2680026515112743 cm\n",
            "Minimum value of waist is at z = 6.5102040816326525 cm and is 0.011171821069570311 cm\n"
          ]
        },
        {
          "output_type": "display_data",
          "data": {
            "text/plain": [
              "<Figure size 432x288 with 1 Axes>"
            ],
            "image/png": "[encoded data removed]"
          },
          "metadata": {
            "needs_background": "light"
          }
        }
      ]
    },
    {
      "cell_type": "code",
      "source": [
        "# Initializing (units in cm)\n",
        "R = \"inf\"\n",
        "w = 0.00245872\n",
        "q1inv = qinv_init(R, w, 6.33e-5)\n",
        "#print(q1inv)\n",
        "q1 = 1/q1inv\n",
        "#print(q1)\n",
        "waist_startsq = 1/(-1*(math.pi/6.33e-5)*q1inv.imag)\n",
        "waist_start = np.sqrt(waist_startsq)\n",
        "print(f\"Waist at start: {waist_start} cm\")\n",
        "\n",
        "# Propagate for 50.205 cm\n",
        "prop_mat = prop_matrix(50.205)\n",
        "q_after_prop = q_transform(q1, prop_mat[0], prop_mat[1], prop_mat[2], prop_mat[3])\n",
        "#print(q_after_prop)\n",
        "q_prop_inv = 1/q_after_prop\n",
        "waist50sq = 1/(-1*(math.pi/6.33e-5)*q_prop_inv.imag)\n",
        "waist50 = np.sqrt(waist50sq)\n",
        "print(f\"Waist after 25 cm: {waist50} cm\")\n",
        "\n",
        "# Pass through lens of focal length 100 mm or 10 cm\n",
        "lens_mat = lens_matrix(10)\n",
        "q_after_lens = q_transform(q_after_prop, lens_mat[0], lens_mat[1], lens_mat[2], lens_mat[3])\n",
        "#print(q_after_lens)\n",
        "q_lens_inv = 1/q_after_lens\n",
        "waistlenssq = 1/(-1*(math.pi/6.33e-5)*q_lens_inv.imag)\n",
        "waistlens = np.sqrt(waistlenssq)\n",
        "print(f\"Waist after lens: {waistlens} cm\")\n",
        "\n",
        "# Propagate for 10.5 cm\n",
        "prop_mat = prop_matrix(10.5)\n",
        "q_after_prop = q_transform(q1, prop_mat[0], prop_mat[1], prop_mat[2], prop_mat[3])\n",
        "#print(q_after_prop)\n",
        "q_prop_inv = 1/q_after_prop\n",
        "waist10sq = 1/(-1*(math.pi/6.33e-5)*q_prop_inv.imag)\n",
        "waist10 = np.sqrt(waist10sq)\n",
        "print(f\"Waist after 10.5 cm: {waist10} cm\")"
      ],
      "metadata": {
        "colab": {
          "base_uri": "https://localhost:8080/"
        },
        "id": "lCPvv0iDDPd-",
        "outputId": "38cc2024-527c-46a2-d54b-122957bfb64e"
      },
      "execution_count": null,
      "outputs": [
        {
          "output_type": "stream",
          "name": "stdout",
          "text": [
            "Waist at start: 0.0024587200000000006 cm\n",
            "Waist after 25 cm: 0.4114333480419548 cm\n",
            "Waist after lens: 0.41143334804195475 cm\n",
            "Waist after 10.5 cm: 0.0860817898246857 cm\n"
          ]
        }
      ]
    },
    {
      "cell_type": "code",
      "source": [
        "#E Sample use (units are cm)\n",
        "R = \"inf\"\n",
        "w_0 = 0.0018796\n",
        "z = 3\n",
        "q1 = qinv_init(R, w_0, 6.33e-5)\n",
        "lens_f = 5\n",
        "lens_mat = lens_matrix(lens_f)\n",
        "prop_mat = prop_matrix(3)\n",
        "q_propd = q_transform(q1, prop_mat[0], prop_mat[1], prop_mat[2], prop_mat[3])       # Propagates the beam by a distance z meters\n",
        "q_lensd = q_transform(q_propd, lens_mat[0], lens_mat[1], lens_mat[2], lens_mat[3])  # Propagates the beam through a lens\n",
        "print(q_propd, q_lensd)"
      ],
      "metadata": {
        "id": "F6NiWY7cTXaa",
        "colab": {
          "base_uri": "https://localhost:8080/"
        },
        "outputId": "27f5093d-f1a1-4b1f-beab-036fb2e3ba14"
      },
      "execution_count": null,
      "outputs": [
        {
          "output_type": "stream",
          "name": "stdout",
          "text": [
            "(3-5.703257294557434j) (-3.6311549482850887-3.903437763155959j)\n"
          ]
        }
      ]
    },
    {
      "cell_type": "markdown",
      "source": [
        "This below part is for section 6, with a lens being placed in the beamline"
      ],
      "metadata": {
        "id": "6SJn9DcY6hNe"
      }
    },
    {
      "cell_type": "markdown",
      "source": [
        "This is the horizontal measurement"
      ],
      "metadata": {
        "id": "IufuyVABI4j1"
      }
    },
    {
      "cell_type": "code",
      "source": [
        "voltage = np.array([0.099, 0.115, 0.139, 0.179, 0.398, 1.691, 1.691, 1.691, 1.691])\n",
        "knife_pos = np.array([0.225, 0.220, 0.215, 0.210, 0.205, 0.200, 0.195, 0.190, 0.185])\n",
        "knife_pos = knife_pos[::-1]"
      ],
      "metadata": {
        "id": "HG87NEiFCtM5"
      },
      "execution_count": null,
      "outputs": []
    },
    {
      "cell_type": "code",
      "source": [
        "popt, pcov = curve_fit(test_func, knife_pos, voltage)\n",
        "print(\"I used this formula for my model function: a/2 * (1 + erf(math.sqrt(2)*(x-b)/c)) + d\")\n",
        "print(f\"a = P = {popt[0]}, b = {popt[1]}, c = w_x = {popt[2]}, d = {popt[3]}\")\n",
        "plt.xlabel(\"Position (in)\")\n",
        "plt.ylabel(\"Volts (V)\")\n",
        "plt.scatter(knife_pos, voltage, label=\"Actual data\")\n",
        "plt.plot(knife_pos, test_func(knife_pos, *popt), color='orange', label=\"curve_fit() best fit\")\n",
        "plt.legend()"
      ],
      "metadata": {
        "colab": {
          "base_uri": "https://localhost:8080/",
          "height": 332
        },
        "id": "AM8H1a_9VG_V",
        "outputId": "d309e9cd-18fc-443d-81b0-3e25377de9a2"
      },
      "execution_count": null,
      "outputs": [
        {
          "output_type": "stream",
          "name": "stdout",
          "text": [
            "I used this formula for my model function: a/2 * (1 + erf(math.sqrt(2)*(x-b)/c)) + d\n",
            "a = P = 1.5579999220166427, b = 0.20583563354458434, c = w_x = 0.0017522010678863611, d = 0.1329999999543198\n"
          ]
        },
        {
          "output_type": "execute_result",
          "data": {
            "text/plain": [
              "<matplotlib.legend.Legend at 0x7f8d2aae8ad0>"
            ]
          },
          "metadata": {},
          "execution_count": 77
        },
        {
          "output_type": "display_data",
          "data": {
            "text/plain": [
              "<Figure size 432x288 with 1 Axes>"
            ],
            "image/png": "[encoded data removed]"
          },
          "metadata": {
            "needs_background": "light"
          }
        }
      ]
    },
    {
      "cell_type": "markdown",
      "source": [
        "This is the vertical measurement"
      ],
      "metadata": {
        "id": "dMZKl6otI9tD"
      }
    },
    {
      "cell_type": "code",
      "source": [
        "voltage = np.array([0.066, 0.086, 0.105, 0.145, 0.241, 0.720, 1.688, 1.688, 1.688, 1.688])\n",
        "knife_pos = np.array([0.3, 0.295, 0.29, 0.285, 0.28, 0.275, 0.27, 0.265, 0.26, 0.255])\n",
        "knife_pos = knife_pos[::-1]"
      ],
      "metadata": {
        "id": "Z_AIZyRQI_ve"
      },
      "execution_count": null,
      "outputs": []
    },
    {
      "cell_type": "code",
      "source": [
        "popt, pcov = curve_fit(test_func, knife_pos, voltage)\n",
        "print(\"I used this formula for my model function: a/2 * (1 + erf(math.sqrt(2)*(x-b)/c)) + d\")\n",
        "print(f\"a = P = {popt[0]}, b = {popt[1]}, c = w_x = {popt[2]}, d = {popt[3]}\")\n",
        "plt.xlabel(\"Position (in)\")\n",
        "plt.ylabel(\"Volts (V)\")\n",
        "plt.scatter(knife_pos, voltage, label=\"Actual data\")\n",
        "plt.plot(knife_pos, test_func(knife_pos, *popt), color='orange', label=\"curve_fit() best fit\")\n",
        "plt.legend()"
      ],
      "metadata": {
        "colab": {
          "base_uri": "https://localhost:8080/",
          "height": 332
        },
        "id": "tsU60JadVHlT",
        "outputId": "2bd3a5ae-d4e9-46e9-d65a-e309a08b2350"
      },
      "execution_count": null,
      "outputs": [
        {
          "output_type": "stream",
          "name": "stdout",
          "text": [
            "I used this formula for my model function: a/2 * (1 + erf(math.sqrt(2)*(x-b)/c)) + d\n",
            "a = P = 1.5699183129090823, b = 0.28064621031647824, c = w_x = 0.004348422462992365, d = 0.1261946863103675\n"
          ]
        },
        {
          "output_type": "execute_result",
          "data": {
            "text/plain": [
              "<matplotlib.legend.Legend at 0x7f8d28a6ca90>"
            ]
          },
          "metadata": {},
          "execution_count": 79
        },
        {
          "output_type": "display_data",
          "data": {
            "text/plain": [
              "<Figure size 432x288 with 1 Axes>"
            ],
            "image/png": "[encoded data removed]"
          },
          "metadata": {
            "needs_background": "light"
          }
        }
      ]
    },
    {
      "cell_type": "code",
      "source": [
        "#Graphs for part 6 measurement \n",
        "popt, pcov = curve_fit(test_func, knife_pos, voltage)\n",
        "print(\"I used this formula for my model function: a/2 * (1 + erf(math.sqrt(2)*(x-b)/c)) + d\")\n",
        "print(f\"a = P = {popt[0]}, b = {popt[1]}, c = w_x = {popt[2]}, d = {popt[3]}\")\n",
        "plt.xlabel(\"Position (in)\")\n",
        "plt.ylabel(\"Volts (V)\")\n",
        "plt.scatter(knife_pos, voltage, label=\"Actual data\")\n",
        "plt.plot(knife_pos, test_func(knife_pos, *popt), color='orange', label=\"curve_fit() best fit\")\n",
        "plt.legend()"
      ],
      "metadata": {
        "colab": {
          "base_uri": "https://localhost:8080/",
          "height": 332
        },
        "id": "yRty-bg3tvGX",
        "outputId": "18a07f49-fd0f-47fc-9c6f-cce9b68217ee"
      },
      "execution_count": null,
      "outputs": [
        {
          "output_type": "stream",
          "name": "stdout",
          "text": [
            "I used this formula for my model function: a/2 * (1 + erf(math.sqrt(2)*(x-b)/c)) + d\n",
            "a = P = 1.5699183129090823, b = 0.28064621031647824, c = w_x = 0.004348422462992365, d = 0.1261946863103675\n"
          ]
        },
        {
          "output_type": "execute_result",
          "data": {
            "text/plain": [
              "<matplotlib.legend.Legend at 0x7f5d7d853dd0>"
            ]
          },
          "metadata": {},
          "execution_count": 32
        },
        {
          "output_type": "display_data",
          "data": {
            "text/plain": [
              "<Figure size 432x288 with 1 Axes>"
            ],
            "image/png": "[encoded data removed]"
          },
          "metadata": {
            "needs_background": "light"
          }
        }
      ]
    },
    {
      "cell_type": "markdown",
      "source": [
        "Fitting to eq 1; finding min waist + location"
      ],
      "metadata": {
        "id": "AhrEAiGIJx6x"
      }
    },
    {
      "cell_type": "code",
      "source": [
        "def waist(z, w, d):\n",
        "  l = 633e-9\n",
        "  y = np.sqrt(w**2 + (z-d)**2 * l**2/[math.pi**2 * w**2])\n",
        "  return y"
      ],
      "metadata": {
        "id": "SedrKE6-J1JL"
      },
      "execution_count": null,
      "outputs": []
    },
    {
      "cell_type": "code",
      "source": [
        "waist_array_x = np.array([0.0162, 0.0180, ])\n",
        "\n",
        "waist_array_y = np.array([0.0139, 0.0166, 0.0228])\n",
        "z_array = np.array([13, 26, 39])\n",
        "# ,   , 39\n",
        "# 0.0110,  13"
      ],
      "metadata": {
        "id": "p9oNw1ZSOMix"
      },
      "execution_count": null,
      "outputs": []
    },
    {
      "cell_type": "code",
      "source": [
        "guess = [0.01, 10]\n",
        "popt, pcov = curve_fit(waist, z_array, waist_array_y, guess)\n",
        "print(\"I used this formula for my model function: math.sqrt(w**2 + (z-d)**2 * l**2/[math.pi**2 * w**2])\")\n",
        "print(f\"w = {popt[0]}, d = {popt[1]}\")\n",
        "plt.xlabel(\"z (cm)\")\n",
        "plt.ylabel(\"waist (in)\")\n",
        "plt.scatter(z_array, waist_array_y, label=\"Actual data\")\n",
        "#x = np.linspace(0, 1000)\n",
        "plt.plot(z_array, waist(z_array, *popt), color='orange', label=\"curve_fit() best fit\")\n",
        "plt.legend()"
      ],
      "metadata": {
        "colab": {
          "base_uri": "https://localhost:8080/",
          "height": 332
        },
        "id": "O75jX2CNOtUT",
        "outputId": "561b6a17-5031-4bc0-d9ad-8a17f9743cd0"
      },
      "execution_count": null,
      "outputs": [
        {
          "output_type": "stream",
          "name": "stdout",
          "text": [
            "I used this formula for my model function: math.sqrt(w**2 + (z-d)**2 * l**2/[math.pi**2 * w**2])\n",
            "w = 0.0005882770338281817, d = -25.842276724360218\n"
          ]
        },
        {
          "output_type": "execute_result",
          "data": {
            "text/plain": [
              "<matplotlib.legend.Legend at 0x7f5d7dc48f10>"
            ]
          },
          "metadata": {},
          "execution_count": 19
        },
        {
          "output_type": "display_data",
          "data": {
            "text/plain": [
              "<Figure size 432x288 with 1 Axes>"
            ],
            "image/png": "[encoded data removed]"
          },
          "metadata": {
            "needs_background": "light"
          }
        }
      ]
    },
    {
      "cell_type": "markdown",
      "source": [
        "With 26cm and 39cm, w_0y = 0.000422 and d = 73.786\n",
        "> \n",
        "With 13cm and 26cm, w_0y = 0.000294 and d = -7.296\n",
        "> \n",
        "With 13cm and 39cm, w_0y = 0.001924 and d = -118.494"
      ],
      "metadata": {
        "id": "rY8CL60bJAXw"
      }
    },
    {
      "cell_type": "code",
      "source": [
        "waist_array_y = np.array([0.0139, 0.0228])\n",
        "z_array = np.array([13, 39])\n",
        "\n",
        "guess = [0.01, 10]\n",
        "popt, pcov = curve_fit(waist, z_array, waist_array_y, guess)\n",
        "print(\"I used this formula for my model function: math.sqrt(w**2 + (z-d)**2 * l**2/[math.pi**2 * w**2])\")\n",
        "print(f\"w = {popt[0]}, d = {popt[1]}\")\n",
        "plt.xlabel(\"z (cm)\")\n",
        "plt.ylabel(\"waist (in)\")\n",
        "plt.scatter(z_array, waist_array_y, label=\"Actual data\")\n",
        "#x = np.linspace(0, 1000)\n",
        "plt.plot(z_array, waist(z_array, *popt), color='orange', label=\"curve_fit() best fit\")\n",
        "plt.legend()"
      ],
      "metadata": {
        "id": "pk2GDOUYD9ve",
        "colab": {
          "base_uri": "https://localhost:8080/",
          "height": 368
        },
        "outputId": "62329617-c224-4d99-dc5e-f7045dfafa9f"
      },
      "execution_count": null,
      "outputs": [
        {
          "output_type": "stream",
          "name": "stdout",
          "text": [
            "I used this formula for my model function: math.sqrt(w**2 + (z-d)**2 * l**2/[math.pi**2 * w**2])\n",
            "w = 0.0005883014151075328, d = -27.548195304661547\n"
          ]
        },
        {
          "output_type": "stream",
          "name": "stderr",
          "text": [
            "/usr/local/lib/python3.7/dist-packages/scipy/optimize/minpack.py:808: OptimizeWarning: Covariance of the parameters could not be estimated\n",
            "  category=OptimizeWarning)\n"
          ]
        },
        {
          "output_type": "execute_result",
          "data": {
            "text/plain": [
              "<matplotlib.legend.Legend at 0x7f5d7db7cfd0>"
            ]
          },
          "metadata": {},
          "execution_count": 20
        },
        {
          "output_type": "display_data",
          "data": {
            "text/plain": [
              "<Figure size 432x288 with 1 Axes>"
            ],
            "image/png": "[encoded data removed]"
          },
          "metadata": {
            "needs_background": "light"
          }
        }
      ]
    },
    {
      "cell_type": "markdown",
      "source": [
        "random test stuff"
      ],
      "metadata": {
        "id": "6VkQ2VQmCtmB"
      }
    },
    {
      "cell_type": "code",
      "source": [
        "print(math.pi)\n",
        "print(math.pi**2)"
      ],
      "metadata": {
        "id": "8uiH713c6mn5",
        "colab": {
          "base_uri": "https://localhost:8080/"
        },
        "outputId": "c787fefe-e3b4-4c80-f29e-0411559918fa"
      },
      "execution_count": null,
      "outputs": [
        {
          "output_type": "stream",
          "name": "stdout",
          "text": [
            "3.141592653589793\n",
            "9.869604401089358\n"
          ]
        }
      ]
    }
  ]
}