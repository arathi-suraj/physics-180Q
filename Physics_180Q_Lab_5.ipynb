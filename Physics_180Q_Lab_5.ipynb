{
  "nbformat": 4,
  "nbformat_minor": 0,
  "metadata": {
    "colab": {
      "name": "Physics 180Q Lab 5.ipynb",
      "provenance": [],
      "collapsed_sections": []
    },
    "kernelspec": {
      "name": "python3",
      "display_name": "Python 3"
    },
    "language_info": {
      "name": "python"
    }
  },
  "cells": [
    {
      "cell_type": "code",
      "execution_count": null,
      "metadata": {
        "id": "pypSOuL3_NM-"
      },
      "outputs": [],
      "source": [
        "import numpy as np\n",
        "import matplotlib.pyplot as plt\n",
        "from scipy.optimize import curve_fit\n",
        "from scipy.special import erf\n",
        "import math"
      ]
    },
    {
      "cell_type": "code",
      "source": [
        "def test_func(x, a, b, c, d):\n",
        "  y = a/2 * (1 + erf(math.sqrt(2)*(x-b)/c)) + d\n",
        "  return y"
      ],
      "metadata": {
        "id": "qXiec_s4AAia"
      },
      "execution_count": null,
      "outputs": []
    },
    {
      "cell_type": "markdown",
      "source": [
        "This value was taken at 7 in from the fiber coupled output"
      ],
      "metadata": {
        "id": "vV4f5kQlAMyg"
      }
    },
    {
      "cell_type": "code",
      "source": [
        "voltage = np.array([-0.03, -0.03, 0.01, 0.170, 0.580, 1.08, 1.34, 1.5, 1.62, 1.7, 1.7])\n",
        "knife_pos = np.array([0.250, 0.255, 0.260, 0.265, 0.270, 0.275, 0.280, 0.285, 0.290, 0.295, 0.3])"
      ],
      "metadata": {
        "id": "T6qD57jvAFkk"
      },
      "execution_count": null,
      "outputs": []
    },
    {
      "cell_type": "code",
      "source": [
        "popt, pcov = curve_fit(test_func, knife_pos, voltage)\n",
        "print(\"I used this formula for my model function: a/2 * (1 + erf(math.sqrt(2)*(x-b)/c)) + d\")\n",
        "print(f\"a = P = {popt[0]}, b = {popt[1]}, c = w_x = {popt[2]}, d = {popt[3]}\")\n",
        "plt.xlabel(\"Position (in)\")\n",
        "plt.ylabel(\"Volts (V)\")\n",
        "plt.scatter(knife_pos, voltage, label=\"Actual data\")\n",
        "plt.plot(knife_pos, test_func(knife_pos, *popt), color='orange', label=\"curve_fit() best fit\")\n",
        "plt.legend()"
      ],
      "metadata": {
        "colab": {
          "base_uri": "https://localhost:8080/",
          "height": 332
        },
        "id": "50rxbbyAGZoD",
        "outputId": "7185fd3e-9a71-4c05-8f12-34818960218b"
      },
      "execution_count": null,
      "outputs": [
        {
          "output_type": "stream",
          "name": "stdout",
          "text": [
            "I used this formula for my model function: a/2 * (1 + erf(math.sqrt(2)*(x-b)/c)) + d\n",
            "a = P = 1.7218897789179801, b = 0.27262725596128967, c = w_x = 0.015397705749912623, d = -0.0588392194934394\n"
          ]
        },
        {
          "output_type": "execute_result",
          "data": {
            "text/plain": [
              "<matplotlib.legend.Legend at 0x7f6fa051b890>"
            ]
          },
          "metadata": {},
          "execution_count": 4
        },
        {
          "output_type": "display_data",
          "data": {
            "text/plain": [
              "<Figure size 432x288 with 1 Axes>"
            ],
            "image/png": "[encoded data removed]"
          },
          "metadata": {
            "needs_background": "light"
          }
        }
      ]
    },
    {
      "cell_type": "markdown",
      "source": [
        "This measurement is at 14 in."
      ],
      "metadata": {
        "id": "rb8NKvAKG1rQ"
      }
    },
    {
      "cell_type": "code",
      "source": [
        "voltage = np.array([-0.03, -0.03, -0.03, -0.03, -0.03, 0.09, 0.490, 0.900, 1.14, 1.26, 1.36, 1.38, 1.38, 1.38])\n",
        "knife_pos = np.array([0.2, 0.205, 0.210, 0.215, 0.220, 0.225, 0.230, 0.235, 0.240, 0.245, 0.25, 0.255, 0.260, 0.265])"
      ],
      "metadata": {
        "id": "Df-3_gDdG1JB"
      },
      "execution_count": null,
      "outputs": []
    },
    {
      "cell_type": "code",
      "source": [
        "popt, pcov = curve_fit(test_func, knife_pos, voltage)\n",
        "print(\"I used this formula for my model function: a/2 * (1 + erf(math.sqrt(2)*(x-b)/c)) + d\")\n",
        "print(f\"a = P = {popt[0]}, b = {popt[1]}, c = w_x = {popt[2]}, d = {popt[3]}\")\n",
        "plt.xlabel(\"Position (in)\")\n",
        "plt.ylabel(\"Volts (V)\")\n",
        "plt.scatter(knife_pos, voltage, label=\"Actual data\")\n",
        "plt.plot(knife_pos, test_func(knife_pos, *popt), color='orange', label=\"curve_fit() best fit\")\n",
        "plt.legend()"
      ],
      "metadata": {
        "colab": {
          "base_uri": "https://localhost:8080/",
          "height": 332
        },
        "id": "sRfqa4uYINBI",
        "outputId": "539fd02a-0e6f-4d80-aa47-c9a8e7231a63"
      },
      "execution_count": null,
      "outputs": [
        {
          "output_type": "stream",
          "name": "stdout",
          "text": [
            "I used this formula for my model function: a/2 * (1 + erf(math.sqrt(2)*(x-b)/c)) + d\n",
            "a = P = 1.4045397240669928, b = 0.23246670043863363, c = w_x = 0.01338308943309113, d = -0.04365229864378649\n"
          ]
        },
        {
          "output_type": "execute_result",
          "data": {
            "text/plain": [
              "<matplotlib.legend.Legend at 0x7f6fa0538cd0>"
            ]
          },
          "metadata": {},
          "execution_count": 6
        },
        {
          "output_type": "display_data",
          "data": {
            "text/plain": [
              "<Figure size 432x288 with 1 Axes>"
            ],
            "image/png": "[encoded data removed]"
          },
          "metadata": {
            "needs_background": "light"
          }
        }
      ]
    },
    {
      "cell_type": "markdown",
      "source": [
        "This is the measurement at 20 in."
      ],
      "metadata": {
        "id": "Up7_VR5XIQtN"
      }
    },
    {
      "cell_type": "code",
      "source": [
        "voltage = np.array([-0.03, 0.09, 0.370, 0.820, 1.18, 1.46, 1.66, 1.70, 1.72, 1.72])\n",
        "knife_pos = np.array([0.235, 0.240, 0.245, 0.250, 0.255, 0.260, 0.265, 0.27, 0.275, 0.280])"
      ],
      "metadata": {
        "id": "qSGZWglSIpj9"
      },
      "execution_count": null,
      "outputs": []
    },
    {
      "cell_type": "code",
      "source": [
        "popt, pcov = curve_fit(test_func, knife_pos, voltage)\n",
        "print(\"I used this formula for my model function: a/2 * (1 + erf(math.sqrt(2)*(x-b)/c)) + d\")\n",
        "print(f\"a = P = {popt[0]}, b = {popt[1]}, c = w_x = {popt[2]}, d = {popt[3]}\")\n",
        "plt.xlabel(\"Position (in)\")\n",
        "plt.ylabel(\"Volts (V)\")\n",
        "plt.scatter(knife_pos, voltage, label=\"Actual data\")\n",
        "plt.plot(knife_pos, test_func(knife_pos, *popt), color='orange', label=\"curve_fit() best fit\")\n",
        "plt.legend()"
      ],
      "metadata": {
        "colab": {
          "base_uri": "https://localhost:8080/",
          "height": 332
        },
        "id": "ACehQNQPI2sH",
        "outputId": "1610989a-af77-4eb0-e819-fb2f27d63584"
      },
      "execution_count": null,
      "outputs": [
        {
          "output_type": "stream",
          "name": "stdout",
          "text": [
            "I used this formula for my model function: a/2 * (1 + erf(math.sqrt(2)*(x-b)/c)) + d\n",
            "a = P = 1.8373675587792946, b = 0.25021703199617834, c = w_x = 0.01733067059008994, d = -0.11513333018858268\n"
          ]
        },
        {
          "output_type": "execute_result",
          "data": {
            "text/plain": [
              "<matplotlib.legend.Legend at 0x7f6f9ffb8f10>"
            ]
          },
          "metadata": {},
          "execution_count": 8
        },
        {
          "output_type": "display_data",
          "data": {
            "text/plain": [
              "<Figure size 432x288 with 1 Axes>"
            ],
            "image/png": "[encoded data removed]"
          },
          "metadata": {
            "needs_background": "light"
          }
        }
      ]
    },
    {
      "cell_type": "markdown",
      "source": [
        "Here are our cavity measurements:\n",
        "\n",
        "Length of cavity (long side): 16.2 cm\n",
        "Width of cavity (short side): 7 cm"
      ],
      "metadata": {
        "id": "P_1ELNAiLI70"
      }
    },
    {
      "cell_type": "code",
      "source": [
        "def waist(z, w, d):\n",
        "  l = 2.4921e-5 # in inches\n",
        "  y = np.sqrt(w**2 + (z-d)**2 * l**2/[math.pi**2 * w**2])\n",
        "  return y"
      ],
      "metadata": {
        "id": "kff9PFgBSH88"
      },
      "execution_count": null,
      "outputs": []
    },
    {
      "cell_type": "code",
      "source": [
        "z_array = np.array([7, 14, 20]) # in inches\n",
        "waist_array = np.array([0.015397, 0.013383, 0.017330])  # in inches"
      ],
      "metadata": {
        "id": "_jXndATOSIlf"
      },
      "execution_count": null,
      "outputs": []
    },
    {
      "cell_type": "code",
      "source": [
        "guess = [0.0101, 14]\n",
        "popt, pcov = curve_fit(waist, z_array, waist_array, guess)\n",
        "print(\"I used this formula for my model function: math.sqrt(w**2 + (z-d)**2 * l**2/[math.pi**2 * w**2])\")\n",
        "print(f\"w = {popt[0]}, d = {popt[1]}\")\n",
        "plt.xlabel(\"z (in)\")\n",
        "plt.ylabel(\"waist (in)\")\n",
        "plt.scatter(z_array, waist_array, label=\"Actual data\")\n",
        "#x = np.linspace(0, 1000)\n",
        "plt.plot(z_array, waist(z_array, *popt), color='orange', label=\"curve_fit() best fit\")\n",
        "plt.legend()"
      ],
      "metadata": {
        "colab": {
          "base_uri": "https://localhost:8080/",
          "height": 335
        },
        "id": "3EzwL47ZShDd",
        "outputId": "38fccedf-7073-4202-b8c6-646acf93bc14"
      },
      "execution_count": null,
      "outputs": [
        {
          "output_type": "stream",
          "name": "stdout",
          "text": [
            "I used this formula for my model function: math.sqrt(w**2 + (z-d)**2 * l**2/[math.pi**2 * w**2])\n",
            "w = 0.014521979046861644, d = 6.332536379743332\n"
          ]
        },
        {
          "output_type": "execute_result",
          "data": {
            "text/plain": [
              "<matplotlib.legend.Legend at 0x7f6fa2546450>"
            ]
          },
          "metadata": {},
          "execution_count": 11
        },
        {
          "output_type": "display_data",
          "data": {
            "text/plain": [
              "<Figure size 432x288 with 1 Axes>"
            ],
            "image/png": "[encoded data removed]"
          },
          "metadata": {
            "needs_background": "light"
          }
        }
      ]
    },
    {
      "cell_type": "markdown",
      "source": [
        "However, we decided to go with the minimum waist at 14 in."
      ],
      "metadata": {
        "id": "9J6NYFiFXkVT"
      }
    },
    {
      "cell_type": "code",
      "source": [
        "def qinv_init(R, w_0, l):\n",
        "  i = 0 + 1j\n",
        "  if R == \"inf\":\n",
        "    q_inv = - i*l/((math.pi)*(w_0**2))\n",
        "  elif R != \"inf\":\n",
        "    q_inv = 1/R - i*l/((math.pi)*(w_0**2))\n",
        "  return q_inv\n",
        "\n",
        "# To get R and waist, check Re(q_inv) and Im(q_inv) respectively."
      ],
      "metadata": {
        "id": "8Xgz_5hRXvRf"
      },
      "execution_count": null,
      "outputs": []
    },
    {
      "cell_type": "code",
      "source": [
        "def q_transform(q_in, A, B, C, D):\n",
        "  q_final = (A*(q_in) + B) / (C*(q_in) + D)\n",
        "  return q_final"
      ],
      "metadata": {
        "id": "LNbQeiE2X0oN"
      },
      "execution_count": null,
      "outputs": []
    },
    {
      "cell_type": "code",
      "source": [
        "def lens_matrix(f):\n",
        "  \"\"\"Enter focal length to get back the ABCD matrix.\"\"\"\n",
        "  A = 1\n",
        "  B = 0\n",
        "  C = -1/f\n",
        "  D = 1\n",
        "  return [A, B, C, D]\n",
        "\n",
        "def prop_matrix(z):\n",
        "  A = 1\n",
        "  B = z\n",
        "  C = 0\n",
        "  D = 1\n",
        "  return [A, B, C, D]"
      ],
      "metadata": {
        "id": "MlW1bIv3X2iY"
      },
      "execution_count": null,
      "outputs": []
    },
    {
      "cell_type": "code",
      "source": [
        "# Initializing (units in cm)\n",
        "R = \"inf\"\n",
        "#w = 0.013383 in = 0.03399282 cm\n",
        "w = 0.03399282\n",
        "q1inv = qinv_init(R, w, 6.33e-5)\n",
        "#print(q1inv)\n",
        "q1 = 1/q1inv\n",
        "#print(q1)\n",
        "waist_startsq = 1/(-1*(math.pi/6.33e-5)*q1inv.imag)\n",
        "waist_start = np.sqrt(waist_startsq)\n",
        "print(f\"Waist at start: {waist_start} cm\")\n",
        "\n",
        "# Propagate for 14 in or 35.56 cm\n",
        "prop_mat = prop_matrix(35.56)\n",
        "q_after_prop = q_transform(q1, prop_mat[0], prop_mat[1], prop_mat[2], prop_mat[3])\n",
        "#print(q_after_prop)\n",
        "q_prop_inv = 1/q_after_prop\n",
        "waist14insq = 1/(-1*(math.pi/6.33e-5)*q_prop_inv.imag)\n",
        "waist14in = np.sqrt(waist14insq)\n",
        "print(f\"Waist after 14 in or 35.56 cm: {waist14in} cm\")\n",
        "\n",
        "# Pass through lens of focal length 150 mm or 20 cm\n",
        "lens_mat = lens_matrix(15)\n",
        "q_after_lens = q_transform(q_after_prop, lens_mat[0], lens_mat[1], lens_mat[2], lens_mat[3])\n",
        "#print(q_after_lens)\n",
        "q_lens_inv = 1/q_after_lens\n",
        "waistlenssq = 1/(-1*(math.pi/6.33e-5)*q_lens_inv.imag)\n",
        "waistlens = np.sqrt(waistlenssq)\n",
        "print(f\"Waist after lens: {waistlens} cm\")\n",
        "\n",
        "# Propagate a distance x cm\n",
        "x = 17.78\n",
        "prop_mat_x = prop_matrix(x)\n",
        "q_after_propx = q_transform(q_after_lens, prop_mat_x[0], prop_mat_x[1], prop_mat_x[2], prop_mat_x[3])\n",
        "q_x_inv = 1/q_after_propx\n",
        "waistxsq = 1/(-1*(math.pi/6.33e-5)*q_x_inv.imag)\n",
        "waistx = np.sqrt(waistxsq)\n",
        "print(f\"Waist after propagating a distance {x} cm: {waistx} cm\")\n",
        "\n",
        "# Pass through lens of focal length 150 mm or 15 cm\n",
        "lens_mat = lens_matrix(15)\n",
        "q_after_lensx = q_transform(q_after_propx, lens_mat[0], lens_mat[1], lens_mat[2], lens_mat[3])\n",
        "#print(q_after_lens)\n",
        "q_lensx_inv = 1/q_after_lensx\n",
        "waistlensxsq = 1/(-1*(math.pi/6.33e-5)*q_lensx_inv.imag)\n",
        "waistlensx = np.sqrt(waistlensxsq)\n",
        "print(f\"Waist after lens: {waistlensx} cm\")"
      ],
      "metadata": {
        "colab": {
          "base_uri": "https://localhost:8080/"
        },
        "id": "9M_omgw-X5XH",
        "outputId": "4846a86e-9f90-46cf-a6b5-1e63daac56f3"
      },
      "execution_count": null,
      "outputs": [
        {
          "output_type": "stream",
          "name": "stdout",
          "text": [
            "Waist at start: 0.03399282 cm\n",
            "Waist after 14 in or 35.56 cm: 0.0399973979035558 cm\n",
            "Waist after lens: 0.03999739790355578 cm\n",
            "Waist after propagating a distance 17.78 cm: 0.009147702965863126 cm\n",
            "Waist after lens: 0.009147702965863126 cm\n"
          ]
        }
      ]
    },
    {
      "cell_type": "markdown",
      "source": [
        "Now we calculate our cavity q-parameter.\n",
        "\n",
        "cavity waist (cm) = 0.000953434 cm"
      ],
      "metadata": {
        "id": "kGWbYp8bZvZF"
      }
    },
    {
      "cell_type": "code",
      "source": [
        ""
      ],
      "metadata": {
        "id": "L0I4qvwkZulZ"
      },
      "execution_count": null,
      "outputs": []
    }
  ]
}