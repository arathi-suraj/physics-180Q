{
  "nbformat": 4,
  "nbformat_minor": 0,
  "metadata": {
    "colab": {
      "name": "Physics 180Q Lab 6.ipynb",
      "provenance": [],
      "collapsed_sections": []
    },
    "kernelspec": {
      "name": "python3",
      "display_name": "Python 3"
    },
    "language_info": {
      "name": "python"
    }
  },
  "cells": [
    {
      "cell_type": "code",
      "execution_count": 4,
      "metadata": {
        "id": "6wLDBOx5H_sz"
      },
      "outputs": [],
      "source": [
        "import numpy as np\n",
        "import matplotlib.pyplot as plt"
      ]
    },
    {
      "cell_type": "markdown",
      "source": [
        "We measured the turning point of the laser beam to be around 18.21 mA visually."
      ],
      "metadata": {
        "id": "rNTTJePnIJfS"
      }
    },
    {
      "cell_type": "markdown",
      "source": [
        "We now try to measure this turning point with a photodiode in front of the diode laser beam."
      ],
      "metadata": {
        "id": "0dQ_kgCeI2pn"
      }
    },
    {
      "cell_type": "code",
      "source": [
        "voltage = np.array([0.100, 0.100, 0.100, 0.130, 0.130, 0.160, 0.160, 0.200, 0.230, 0.270, 0.300, 0.330, 0.400, 0.500, 0.810, 5.47, 8.55, 8.55, 8.55])\n",
        "# The current control on the diode laser controller\n",
        "current = np.array([3.38, 4.42, 5.40, 6.49, 7.42, 8.40, 9.40, 10.41, 11.40, 12.42, 13.43, 14.43, 15.46, 16.43, 17.47, 18.39, 19.40, 20.42, 21.44]) # in mA"
      ],
      "metadata": {
        "id": "UN4HAr0YIIw_"
      },
      "execution_count": null,
      "outputs": []
    },
    {
      "cell_type": "code",
      "source": [
        "plt.plot(current, voltage)\n",
        "plt.xlabel(\"Current in the laser diode (mA)\")\n",
        "plt.ylabel(\"Voltage recorded by photodiode (V)\")\n",
        "plt.legend()\n",
        "plt.vlines(18.3, 0, 8.55, linestyle=\"dashed\")"
      ],
      "metadata": {
        "colab": {
          "base_uri": "https://localhost:8080/",
          "height": 315
        },
        "id": "gQLt8mpnLONS",
        "outputId": "ee5f940f-0905-4e3e-c38c-8023dd053c11"
      },
      "execution_count": null,
      "outputs": [
        {
          "output_type": "stream",
          "name": "stderr",
          "text": [
            "No handles with labels found to put in legend.\n"
          ]
        },
        {
          "output_type": "execute_result",
          "data": {
            "text/plain": [
              "<matplotlib.collections.LineCollection at 0x7f6379cd8d10>"
            ]
          },
          "metadata": {},
          "execution_count": 8
        },
        {
          "output_type": "display_data",
          "data": {
            "text/plain": [
              "<Figure size 432x288 with 1 Axes>"
            ],
            "image/png": "[encoded data removed]"
          },
          "metadata": {
            "needs_background": "light"
          }
        }
      ]
    },
    {
      "cell_type": "markdown",
      "source": [
        "We did the oscilloscope method and we put our cursor at the start of the kink/rise. The voltage value at that point was 341.25 mV.\n",
        "\n",
        "The RIGOL was used to generate a ramp function with these values:\n",
        "\n",
        "Freq = 50 Hz\n",
        "\n",
        "HighL = 650 mV\n",
        "\n",
        "LowL = 0 V\n",
        "\n",
        "Phase = 0 deg\n",
        "\n",
        "Symm = 0"
      ],
      "metadata": {
        "id": "fHMuTt75RhoH"
      }
    },
    {
      "cell_type": "markdown",
      "source": [
        "ILD = ILD SET + ILD MAX * UMOD / 10 V"
      ],
      "metadata": {
        "id": "xYo0qmFaUga0"
      }
    },
    {
      "cell_type": "code",
      "source": [
        "# Using the above formula\n",
        "ILD_set = 0.00014\n",
        "ILD_max = 0.035 # A or 35.00 mA\n",
        "Umod =  0.5355 # V or 535 mV\n",
        "ILD = ILD_set + (ILD_max*Umod)\n",
        "print(f\"{ILD*1000} mA is the threshold current.\")"
      ],
      "metadata": {
        "colab": {
          "base_uri": "https://localhost:8080/"
        },
        "id": "h_WbcTaQUgC3",
        "outputId": "5654ec0a-85aa-4551-ade2-7ac8f33f39cb"
      },
      "execution_count": null,
      "outputs": [
        {
          "output_type": "stream",
          "name": "stdout",
          "text": [
            "18.882500000000004 mA is the threshold current.\n"
          ]
        }
      ]
    },
    {
      "cell_type": "markdown",
      "source": [
        "This is for part e, i"
      ],
      "metadata": {
        "id": "llBYD4hdpCoH"
      }
    },
    {
      "cell_type": "code",
      "source": [
        "# For a current of 18.36 mA, we see a wavelength peak of 653.3 nm.\n",
        "# For a current of 19.02 mA, we see a wavelength peak of 653.5 nm.\n",
        "# For a current of 18.15 mA, we see a wavelength peak of 653.3 nm.\n",
        "# For a current of 20.24 mA, we see a wavelength peak of 653.8 nm.\n",
        "# We note that nothing really changed."
      ],
      "metadata": {
        "id": "YvBhvqI0pGYP"
      },
      "execution_count": null,
      "outputs": []
    },
    {
      "cell_type": "code",
      "source": [
        "from scipy.stats import linregress\n"
      ],
      "metadata": {
        "id": "0PTiG7VobGRz"
      },
      "execution_count": 8,
      "outputs": []
    },
    {
      "cell_type": "code",
      "source": [
        "current = np.array([18.36, 19.02, 20.24])\n",
        "wavelength = np.array([653.3, 653.5, 653.8])\n",
        "tup = linregress(current, wavelength)\n",
        "plt.scatter(wavelength, current, color=\"#12F3F2\")\n",
        "plt.plot(wavelength, current, label=f\"Slope: {tup[0]}\")\n",
        "plt.xlabel(\"Wavelength (nm)\")\n",
        "plt.ylabel(\"Current (mA)\")\n",
        "plt.legend()"
      ],
      "metadata": {
        "colab": {
          "base_uri": "https://localhost:8080/",
          "height": 297
        },
        "id": "h0smmxydaaiD",
        "outputId": "a8a8d5ca-4288-4090-c6d1-d8acfd2a37c4"
      },
      "execution_count": 25,
      "outputs": [
        {
          "output_type": "execute_result",
          "data": {
            "text/plain": [
              "<matplotlib.legend.Legend at 0x7fa8718ee990>"
            ]
          },
          "metadata": {},
          "execution_count": 25
        },
        {
          "output_type": "display_data",
          "data": {
            "text/plain": [
              "<Figure size 432x288 with 1 Axes>"
            ],
            "image/png": "[encoded data removed]"
          },
          "metadata": {
            "needs_background": "light"
          }
        }
      ]
    },
    {
      "cell_type": "markdown",
      "source": [
        "This is for part e, ii"
      ],
      "metadata": {
        "id": "csrqWFX50--L"
      }
    },
    {
      "cell_type": "code",
      "source": [
        "# Current = 18.60 mA\n",
        "# Temp_2 = 10.36 C, lambda 653.5 nm\n",
        "# Temp_3 = 18.25 C, lambda = 653.2 nm\n",
        "# Temp_4 = 19.43 C, lambda = 653.5 nm\n",
        "# Saw linear-ish change"
      ],
      "metadata": {
        "id": "dh46kO5A0-VD"
      },
      "execution_count": null,
      "outputs": []
    },
    {
      "cell_type": "code",
      "source": [
        "temp = np.array([10.36, 18.25, 19.43])\n",
        "wavelength = np.array([653.5, 653.2, 653.5])\n",
        "tup = linregress(temp, wavelength)\n",
        "plt.scatter(temp, wavelength, color=\"#12F3F2\")\n",
        "plt.plot(temp, wavelength, label=f\"Slope: {tup[0]}\")\n",
        "plt.ylabel(\"Wavelength (nm)\")\n",
        "plt.xlabel(\"Temperature (C)\")\n",
        "plt.ylim(653.00, 657)\n",
        "plt.legend()"
      ],
      "metadata": {
        "colab": {
          "base_uri": "https://localhost:8080/",
          "height": 301
        },
        "id": "W3_QIQtscxp7",
        "outputId": "41fb61c7-9cb3-47d1-8d3c-5c45173356f3"
      },
      "execution_count": 29,
      "outputs": [
        {
          "output_type": "execute_result",
          "data": {
            "text/plain": [
              "<matplotlib.legend.Legend at 0x7fa871a7e210>"
            ]
          },
          "metadata": {},
          "execution_count": 29
        },
        {
          "output_type": "display_data",
          "data": {
            "text/plain": [
              "<Figure size 432x288 with 1 Axes>"
            ],
            "image/png": "[encoded data removed]"
          },
          "metadata": {
            "needs_background": "light"
          }
        }
      ]
    },
    {
      "cell_type": "markdown",
      "source": [
        "Powers of zeroth and first order modes:\n",
        "\n",
        "Beam: 1.1 V\n",
        "\n",
        "Zero order: 154 mV\n",
        "\n",
        "First order: 878mV"
      ],
      "metadata": {
        "id": "ro1fhYZIC2zL"
      }
    },
    {
      "cell_type": "code",
      "source": [
        "# Using the above formula AFTER DIFFRACTION GRATING\n",
        "ILD_set = 0.00014\n",
        "ILD_max = 0.035 # A or 35.00 mA\n",
        "Umod =  0.503 # V or 535 mV\n",
        "ILD = ILD_set + (ILD_max*Umod)\n",
        "print(f\"{ILD*1000} mA is the threshold current.\")"
      ],
      "metadata": {
        "colab": {
          "base_uri": "https://localhost:8080/"
        },
        "id": "SEfSEiAoKYGl",
        "outputId": "30a98a24-6595-41d1-ff20-1480c1a44afc"
      },
      "execution_count": null,
      "outputs": [
        {
          "output_type": "stream",
          "name": "stdout",
          "text": [
            "17.745000000000005 mA is the threshold current.\n"
          ]
        }
      ]
    },
    {
      "cell_type": "markdown",
      "source": [
        "We see above that the threshold current is now lower after placing the diffraction grating."
      ],
      "metadata": {
        "id": "J8AxBcSyKm4r"
      }
    },
    {
      "cell_type": "code",
      "source": [
        "# For a current of 28.35 mA the wavelength peak is at 653.2 nm.\n",
        "# For a current of 20.49 mA the wavelength peak is at 653.3 nm.\n",
        "# For a current of 19.10 mA the wavelength peak is at 653.2 nm.\n",
        "# For a current of 18.28 mA the wavelength peak is at 653.2 nm.\n",
        "# For a current of 29.09 mA the wavelength peak is at 653.0 nm."
      ],
      "metadata": {
        "id": "BaFiaXjlTaXe"
      },
      "execution_count": null,
      "outputs": []
    },
    {
      "cell_type": "code",
      "source": [
        "current = np.array([18.28, 19.10, 20.49, 28.35, 29.09])\n",
        "wavelength = np.array([653.2, 653.2, 653.3, 653.2, 653.0])\n",
        "tup = linregress(current, wavelength)\n",
        "plt.scatter(current, wavelength, color=\"#12F3F2\")\n",
        "plt.plot(current, wavelength, label=f\"Slope: {tup[0]}\")\n",
        "plt.ylabel(\"Wavelength (nm)\")\n",
        "plt.xlabel(\"Current (mA)\")\n",
        "plt.ylim(652.7, 656.0)\n",
        "plt.legend()"
      ],
      "metadata": {
        "colab": {
          "base_uri": "https://localhost:8080/",
          "height": 301
        },
        "id": "_5I8fV_kilAF",
        "outputId": "be64b0c0-1356-4343-8c23-62e9d99fac68"
      },
      "execution_count": 33,
      "outputs": [
        {
          "output_type": "execute_result",
          "data": {
            "text/plain": [
              "<matplotlib.legend.Legend at 0x7fa871442e90>"
            ]
          },
          "metadata": {},
          "execution_count": 33
        },
        {
          "output_type": "display_data",
          "data": {
            "text/plain": [
              "<Figure size 432x288 with 1 Axes>"
            ],
            "image/png": "[encoded data removed]"
          },
          "metadata": {
            "needs_background": "light"
          }
        }
      ]
    },
    {
      "cell_type": "code",
      "source": [
        "# Current = 19.47 mA\n",
        "# Temp_1 = 9.07 C, lambda = 653.2 nm\n",
        "# Temp_2 = 13.20 C, lambda = 653.3 nm\n",
        "# Temp_3 = 19.63 C, lambda - 653.8 nm"
      ],
      "metadata": {
        "id": "9pfUoLNMVNLL"
      },
      "execution_count": null,
      "outputs": []
    },
    {
      "cell_type": "code",
      "source": [
        "temp = np.array([9.07, 13.20, 19.63])\n",
        "wave = np.array([653.2, 653.3, 653.8])\n",
        "tup = linregress(temp, wave)\n",
        "plt.scatter(temp, wave, color=\"#12F3F2\")\n",
        "plt.plot(temp, wave, label=f\"Slope: {tup[0]}\")\n",
        "plt.ylabel(\"Wavelength (nm)\")\n",
        "plt.xlabel(\"Temperature (C)\")\n",
        "#plt.ylim(652.7, 656.0)\n",
        "plt.legend()"
      ],
      "metadata": {
        "colab": {
          "base_uri": "https://localhost:8080/",
          "height": 297
        },
        "id": "FnO5nUfHk0Lx",
        "outputId": "3ccdfe43-0a11-460d-cfa1-f47981e7ec79"
      },
      "execution_count": 34,
      "outputs": [
        {
          "output_type": "execute_result",
          "data": {
            "text/plain": [
              "<matplotlib.legend.Legend at 0x7fa871438c10>"
            ]
          },
          "metadata": {},
          "execution_count": 34
        },
        {
          "output_type": "display_data",
          "data": {
            "text/plain": [
              "<Figure size 432x288 with 1 Axes>"
            ],
            "image/png": "[encoded data removed]"
          },
          "metadata": {
            "needs_background": "light"
          }
        }
      ]
    },
    {
      "cell_type": "markdown",
      "source": [
        "After about 3 horizontal turns, the laser seemed to strongly prefer the 653.2 nm mode.\n",
        "\n",
        "Temp = 15.51 C\n",
        "\n",
        "Current = 18.58 mA\n",
        "\n",
        "After 3 more turns, it now prefers the 653.3 nm moded and the others are suppressed."
      ],
      "metadata": {
        "id": "tayy32dBXyLX"
      }
    }
  ]
}